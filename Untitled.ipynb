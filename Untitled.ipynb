{
 "cells": [
  {
   "cell_type": "code",
   "execution_count": 1,
   "metadata": {
    "collapsed": true
   },
   "outputs": [],
   "source": [
    "import pandas as pd"
   ]
  },
  {
   "cell_type": "code",
   "execution_count": 3,
   "metadata": {},
   "outputs": [
    {
     "data": {
      "text/html": [
       "<div>\n",
       "<style>\n",
       "    .dataframe thead tr:only-child th {\n",
       "        text-align: right;\n",
       "    }\n",
       "\n",
       "    .dataframe thead th {\n",
       "        text-align: left;\n",
       "    }\n",
       "\n",
       "    .dataframe tbody tr th {\n",
       "        vertical-align: top;\n",
       "    }\n",
       "</style>\n",
       "<table border=\"1\" class=\"dataframe\">\n",
       "  <thead>\n",
       "    <tr style=\"text-align: right;\">\n",
       "      <th></th>\n",
       "      <th>match_id</th>\n",
       "      <th>team_name</th>\n",
       "      <th>TypeGearIntake</th>\n",
       "      <th>TypeGearPlace</th>\n",
       "      <th>GearsPlaced</th>\n",
       "      <th>kpa</th>\n",
       "      <th>TypeDrivetrain</th>\n",
       "      <th>Climb</th>\n",
       "      <th>comments</th>\n",
       "    </tr>\n",
       "  </thead>\n",
       "  <tbody>\n",
       "    <tr>\n",
       "      <th>0</th>\n",
       "      <td>1</td>\n",
       "      <td>558</td>\n",
       "      <td>hybrid</td>\n",
       "      <td>active</td>\n",
       "      <td>5</td>\n",
       "      <td>0</td>\n",
       "      <td>Tank</td>\n",
       "      <td>yes</td>\n",
       "      <td>good team</td>\n",
       "    </tr>\n",
       "    <tr>\n",
       "      <th>1</th>\n",
       "      <td>1</td>\n",
       "      <td>195</td>\n",
       "      <td>hybrid</td>\n",
       "      <td>active</td>\n",
       "      <td>5</td>\n",
       "      <td>0</td>\n",
       "      <td>Tank</td>\n",
       "      <td>yes</td>\n",
       "      <td>jsdgjdklgj</td>\n",
       "    </tr>\n",
       "    <tr>\n",
       "      <th>2</th>\n",
       "      <td>1</td>\n",
       "      <td>225</td>\n",
       "      <td>hybrid</td>\n",
       "      <td>active</td>\n",
       "      <td>5</td>\n",
       "      <td>0</td>\n",
       "      <td>Tank</td>\n",
       "      <td>yes</td>\n",
       "      <td>jsdgjdklgj</td>\n",
       "    </tr>\n",
       "  </tbody>\n",
       "</table>\n",
       "</div>"
      ],
      "text/plain": [
       "   match_id  team_name TypeGearIntake TypeGearPlace  GearsPlaced  kpa  \\\n",
       "0         1        558         hybrid        active            5    0   \n",
       "1         1        195         hybrid        active            5    0   \n",
       "2         1        225         hybrid        active            5    0   \n",
       "\n",
       "  TypeDrivetrain Climb    comments  \n",
       "0           Tank   yes   good team  \n",
       "1           Tank   yes  jsdgjdklgj  \n",
       "2           Tank   yes  jsdgjdklgj  "
      ]
     },
     "execution_count": 3,
     "metadata": {},
     "output_type": "execute_result"
    }
   ],
   "source": [
    "data = pd.read_csv('/Users/manik/Documents/558_scouting_database/Untitled.csv', sep=';')\n",
    "data.head()"
   ]
  },
  {
   "cell_type": "code",
   "execution_count": null,
   "metadata": {
    "collapsed": true
   },
   "outputs": [],
   "source": []
  }
 ],
 "metadata": {
  "kernelspec": {
   "display_name": "Python 3",
   "language": "python",
   "name": "python3"
  },
  "language_info": {
   "codemirror_mode": {
    "name": "ipython",
    "version": 3
   },
   "file_extension": ".py",
   "mimetype": "text/x-python",
   "name": "python",
   "nbconvert_exporter": "python",
   "pygments_lexer": "ipython3",
   "version": "3.6.1"
  }
 },
 "nbformat": 4,
 "nbformat_minor": 2
}
